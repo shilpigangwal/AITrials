{
  "nbformat": 4,
  "nbformat_minor": 0,
  "metadata": {
    "colab": {
      "provenance": [],
      "include_colab_link": true
    },
    "kernelspec": {
      "name": "python3",
      "display_name": "Python 3"
    },
    "language_info": {
      "name": "python"
    },
    "widgets": {
      "application/vnd.jupyter.widget-state+json": {
        "6a189d2c0b3b4ba5ab810dc999a565dc": {
          "model_module": "@jupyter-widgets/output",
          "model_name": "OutputModel",
          "model_module_version": "1.0.0",
          "state": {
            "_dom_classes": [],
            "_model_module": "@jupyter-widgets/output",
            "_model_module_version": "1.0.0",
            "_model_name": "OutputModel",
            "_view_count": null,
            "_view_module": "@jupyter-widgets/output",
            "_view_module_version": "1.0.0",
            "_view_name": "OutputView",
            "layout": "IPY_MODEL_e46f7370b30840a896309169432b5636",
            "msg_id": "",
            "outputs": [
              {
                "output_type": "display_data",
                "data": {
                  "text/plain": "\u001b[32m▰▰▰▰▰▱▱\u001b[0m Thinking...\n\u001b[36m┏━\u001b[0m\u001b[36m Message \u001b[0m\u001b[36m━━━━━━━━━━━━━━━━━━━━━━━━━━━━━━━━━━━━━━━━━━━━━━━━━━━━━━━━━━━━━━━━━━━━━━━━━━━━━━━━━━━━━━━━━━━━━━━━━━━━━━\u001b[0m\u001b[36m━┓\u001b[0m\n\u001b[36m┃\u001b[0m                                                                                                                 \u001b[36m┃\u001b[0m\n\u001b[36m┃\u001b[0m \u001b[32mWrite a report on NVDA\u001b[0m                                                                                          \u001b[36m┃\u001b[0m\n\u001b[36m┃\u001b[0m                                                                                                                 \u001b[36m┃\u001b[0m\n\u001b[36m┗━━━━━━━━━━━━━━━━━━━━━━━━━━━━━━━━━━━━━━━━━━━━━━━━━━━━━━━━━━━━━━━━━━━━━━━━━━━━━━━━━━━━━━━━━━━━━━━━━━━━━━━━━━━━━━━━━┛\u001b[0m\n\u001b[32m┏━\u001b[0m\u001b[32m Reasoning step 1 \u001b[0m\u001b[32m━━━━━━━━━━━━━━━━━━━━━━━━━━━━━━━━━━━━━━━━━━━━━━━━━━━━━━━━━━━━━━━━━━━━━━━━━━━━━━━━━━━━━━━━━━━━━\u001b[0m\u001b[32m━┓\u001b[0m\n\u001b[32m┃\u001b[0m                                                                                                                 \u001b[32m┃\u001b[0m\n\u001b[32m┃\u001b[0m \u001b[1mOutline Report Structure\u001b[0m                                                                                        \u001b[32m┃\u001b[0m\n\u001b[32m┃\u001b[0m \u001b[1;2mAction:\u001b[0m\u001b[2m Get company information, stock price, and news\u001b[0m                                                          \u001b[32m┃\u001b[0m\n\u001b[32m┃\u001b[0m                                                                                                                 \u001b[32m┃\u001b[0m\n\u001b[32m┃\u001b[0m \u001b[1;2mReasoning:\u001b[0m\u001b[2m The report should include company information, current stock price, and recent news. I will start by\u001b[0m \u001b[32m┃\u001b[0m\n\u001b[32m┃\u001b[0m \u001b[2mgetting the company information, stock price and news, then format these into a report.\u001b[0m                         \u001b[32m┃\u001b[0m\n\u001b[32m┃\u001b[0m                                                                                                                 \u001b[32m┃\u001b[0m\n\u001b[32m┗━━━━━━━━━━━━━━━━━━━━━━━━━━━━━━━━━━━━━━━━━━━━━━━━━━━━━━━━━━━━━━━━━━━━━━━━━━━━━━━━━━━━━━━━━━━━━━━━━━━━━━━━━━━━━━━━━┛\u001b[0m\n\u001b[32m┏━\u001b[0m\u001b[32m Reasoning step 2 \u001b[0m\u001b[32m━━━━━━━━━━━━━━━━━━━━━━━━━━━━━━━━━━━━━━━━━━━━━━━━━━━━━━━━━━━━━━━━━━━━━━━━━━━━━━━━━━━━━━━━━━━━━\u001b[0m\u001b[32m━┓\u001b[0m\n\u001b[32m┃\u001b[0m                                                                                                                 \u001b[32m┃\u001b[0m\n\u001b[32m┃\u001b[0m \u001b[1mFormat Report\u001b[0m                                                                                                   \u001b[32m┃\u001b[0m\n\u001b[32m┃\u001b[0m \u001b[2mSuccessfully retrieved company info, stock price, and news.\u001b[0m                                                     \u001b[32m┃\u001b[0m\n\u001b[32m┃\u001b[0m \u001b[1;2mReasoning:\u001b[0m\u001b[2m The tool calls returned company information, current stock price, and recent news. The next step is \u001b[0m \u001b[32m┃\u001b[0m\n\u001b[32m┃\u001b[0m \u001b[2mto format this information into a comprehensive report.\u001b[0m                                                         \u001b[32m┃\u001b[0m\n\u001b[32m┃\u001b[0m                                                                                                                 \u001b[32m┃\u001b[0m\n\u001b[32m┗━━━━━━━━━━━━━━━━━━━━━━━━━━━━━━━━━━━━━━━━━━━━━━━━━━━━━━━━━━━━━━━━━━━━━━━━━━━━━━━━━━━━━━━━━━━━━━━━━━━━━━━━━━━━━━━━━┛\u001b[0m\n",
                  "text/html": "<pre style=\"white-space:pre;overflow-x:auto;line-height:normal;font-family:Menlo,'DejaVu Sans Mono',consolas,'Courier New',monospace\"><span style=\"color: #008000; text-decoration-color: #008000\">▰▰▰▰▰▱▱</span> Thinking...\n<span style=\"color: #008080; text-decoration-color: #008080\">┏━ Message ━━━━━━━━━━━━━━━━━━━━━━━━━━━━━━━━━━━━━━━━━━━━━━━━━━━━━━━━━━━━━━━━━━━━━━━━━━━━━━━━━━━━━━━━━━━━━━━━━━━━━━━┓</span>\n<span style=\"color: #008080; text-decoration-color: #008080\">┃</span>                                                                                                                 <span style=\"color: #008080; text-decoration-color: #008080\">┃</span>\n<span style=\"color: #008080; text-decoration-color: #008080\">┃</span> <span style=\"color: #008000; text-decoration-color: #008000\">Write a report on NVDA</span>                                                                                          <span style=\"color: #008080; text-decoration-color: #008080\">┃</span>\n<span style=\"color: #008080; text-decoration-color: #008080\">┃</span>                                                                                                                 <span style=\"color: #008080; text-decoration-color: #008080\">┃</span>\n<span style=\"color: #008080; text-decoration-color: #008080\">┗━━━━━━━━━━━━━━━━━━━━━━━━━━━━━━━━━━━━━━━━━━━━━━━━━━━━━━━━━━━━━━━━━━━━━━━━━━━━━━━━━━━━━━━━━━━━━━━━━━━━━━━━━━━━━━━━━┛</span>\n<span style=\"color: #008000; text-decoration-color: #008000\">┏━ Reasoning step 1 ━━━━━━━━━━━━━━━━━━━━━━━━━━━━━━━━━━━━━━━━━━━━━━━━━━━━━━━━━━━━━━━━━━━━━━━━━━━━━━━━━━━━━━━━━━━━━━┓</span>\n<span style=\"color: #008000; text-decoration-color: #008000\">┃</span>                                                                                                                 <span style=\"color: #008000; text-decoration-color: #008000\">┃</span>\n<span style=\"color: #008000; text-decoration-color: #008000\">┃</span> <span style=\"font-weight: bold\">Outline Report Structure</span>                                                                                        <span style=\"color: #008000; text-decoration-color: #008000\">┃</span>\n<span style=\"color: #008000; text-decoration-color: #008000\">┃</span> <span style=\"color: #7f7f7f; text-decoration-color: #7f7f7f; font-weight: bold\">Action:</span><span style=\"color: #7f7f7f; text-decoration-color: #7f7f7f\"> Get company information, stock price, and news</span>                                                          <span style=\"color: #008000; text-decoration-color: #008000\">┃</span>\n<span style=\"color: #008000; text-decoration-color: #008000\">┃</span>                                                                                                                 <span style=\"color: #008000; text-decoration-color: #008000\">┃</span>\n<span style=\"color: #008000; text-decoration-color: #008000\">┃</span> <span style=\"color: #7f7f7f; text-decoration-color: #7f7f7f; font-weight: bold\">Reasoning:</span><span style=\"color: #7f7f7f; text-decoration-color: #7f7f7f\"> The report should include company information, current stock price, and recent news. I will start by</span> <span style=\"color: #008000; text-decoration-color: #008000\">┃</span>\n<span style=\"color: #008000; text-decoration-color: #008000\">┃</span> <span style=\"color: #7f7f7f; text-decoration-color: #7f7f7f\">getting the company information, stock price and news, then format these into a report.</span>                         <span style=\"color: #008000; text-decoration-color: #008000\">┃</span>\n<span style=\"color: #008000; text-decoration-color: #008000\">┃</span>                                                                                                                 <span style=\"color: #008000; text-decoration-color: #008000\">┃</span>\n<span style=\"color: #008000; text-decoration-color: #008000\">┗━━━━━━━━━━━━━━━━━━━━━━━━━━━━━━━━━━━━━━━━━━━━━━━━━━━━━━━━━━━━━━━━━━━━━━━━━━━━━━━━━━━━━━━━━━━━━━━━━━━━━━━━━━━━━━━━━┛</span>\n<span style=\"color: #008000; text-decoration-color: #008000\">┏━ Reasoning step 2 ━━━━━━━━━━━━━━━━━━━━━━━━━━━━━━━━━━━━━━━━━━━━━━━━━━━━━━━━━━━━━━━━━━━━━━━━━━━━━━━━━━━━━━━━━━━━━━┓</span>\n<span style=\"color: #008000; text-decoration-color: #008000\">┃</span>                                                                                                                 <span style=\"color: #008000; text-decoration-color: #008000\">┃</span>\n<span style=\"color: #008000; text-decoration-color: #008000\">┃</span> <span style=\"font-weight: bold\">Format Report</span>                                                                                                   <span style=\"color: #008000; text-decoration-color: #008000\">┃</span>\n<span style=\"color: #008000; text-decoration-color: #008000\">┃</span> <span style=\"color: #7f7f7f; text-decoration-color: #7f7f7f\">Successfully retrieved company info, stock price, and news.</span>                                                     <span style=\"color: #008000; text-decoration-color: #008000\">┃</span>\n<span style=\"color: #008000; text-decoration-color: #008000\">┃</span> <span style=\"color: #7f7f7f; text-decoration-color: #7f7f7f; font-weight: bold\">Reasoning:</span><span style=\"color: #7f7f7f; text-decoration-color: #7f7f7f\"> The tool calls returned company information, current stock price, and recent news. The next step is </span> <span style=\"color: #008000; text-decoration-color: #008000\">┃</span>\n<span style=\"color: #008000; text-decoration-color: #008000\">┃</span> <span style=\"color: #7f7f7f; text-decoration-color: #7f7f7f\">to format this information into a comprehensive report.</span>                                                         <span style=\"color: #008000; text-decoration-color: #008000\">┃</span>\n<span style=\"color: #008000; text-decoration-color: #008000\">┃</span>                                                                                                                 <span style=\"color: #008000; text-decoration-color: #008000\">┃</span>\n<span style=\"color: #008000; text-decoration-color: #008000\">┗━━━━━━━━━━━━━━━━━━━━━━━━━━━━━━━━━━━━━━━━━━━━━━━━━━━━━━━━━━━━━━━━━━━━━━━━━━━━━━━━━━━━━━━━━━━━━━━━━━━━━━━━━━━━━━━━━┛</span>\n</pre>\n"
                },
                "metadata": {}
              }
            ]
          }
        },
        "e46f7370b30840a896309169432b5636": {
          "model_module": "@jupyter-widgets/base",
          "model_name": "LayoutModel",
          "model_module_version": "1.2.0",
          "state": {
            "_model_module": "@jupyter-widgets/base",
            "_model_module_version": "1.2.0",
            "_model_name": "LayoutModel",
            "_view_count": null,
            "_view_module": "@jupyter-widgets/base",
            "_view_module_version": "1.2.0",
            "_view_name": "LayoutView",
            "align_content": null,
            "align_items": null,
            "align_self": null,
            "border": null,
            "bottom": null,
            "display": null,
            "flex": null,
            "flex_flow": null,
            "grid_area": null,
            "grid_auto_columns": null,
            "grid_auto_flow": null,
            "grid_auto_rows": null,
            "grid_column": null,
            "grid_gap": null,
            "grid_row": null,
            "grid_template_areas": null,
            "grid_template_columns": null,
            "grid_template_rows": null,
            "height": null,
            "justify_content": null,
            "justify_items": null,
            "left": null,
            "margin": null,
            "max_height": null,
            "max_width": null,
            "min_height": null,
            "min_width": null,
            "object_fit": null,
            "object_position": null,
            "order": null,
            "overflow": null,
            "overflow_x": null,
            "overflow_y": null,
            "padding": null,
            "right": null,
            "top": null,
            "visibility": null,
            "width": null
          }
        }
      }
    }
  },
  "cells": [
    {
      "cell_type": "markdown",
      "metadata": {
        "id": "view-in-github",
        "colab_type": "text"
      },
      "source": [
        "<a href=\"https://colab.research.google.com/github/shilpigangwal/AITrials/blob/main/Research_Assistant.ipynb\" target=\"_parent\"><img src=\"https://colab.research.google.com/assets/colab-badge.svg\" alt=\"Open In Colab\"/></a>"
      ]
    },
    {
      "cell_type": "markdown",
      "source": [
        "## Research Agent Using AI"
      ],
      "metadata": {
        "id": "mj-rREKmgGlP"
      }
    },
    {
      "cell_type": "code",
      "execution_count": null,
      "metadata": {
        "id": "38y92zyHMilX"
      },
      "outputs": [],
      "source": [
        "!pip install -qU agno google-search-results"
      ]
    },
    {
      "cell_type": "code",
      "source": [
        "import os\n",
        "from google.colab import userdata\n",
        "\n",
        "# os.environ[\"OPENAI_API_KEY\"] = userdata.get(\"OPENAI_API_KEY\")\n",
        "os.environ[\"GOOGLE_API_KEY\"] = userdata.get(\"GEMINI_API_KEY\")\n",
        "os.environ[\"SERP_API_KEY\"] = userdata.get(\"SERPAPI_API_KEY\")"
      ],
      "metadata": {
        "id": "5iXcA8o7MuWw"
      },
      "execution_count": null,
      "outputs": []
    },
    {
      "cell_type": "markdown",
      "source": [
        "## Market Research Agent with Mutliple Tools"
      ],
      "metadata": {
        "id": "L3DKzO2HvaUS"
      }
    },
    {
      "cell_type": "code",
      "source": [
        "from agno.agent import Agent\n",
        "from agno.models.google import Gemini\n",
        "from agno.tools.reasoning import ReasoningTools\n",
        "from agno.tools.yfinance import YFinanceTools\n",
        "\n",
        "agent = Agent(\n",
        "    model=Gemini(id=\"gemini-2.0-flash\"),\n",
        "    tools=[\n",
        "        ReasoningTools(add_instructions=True),\n",
        "        YFinanceTools(stock_price=True, company_info=True, company_news=True),\n",
        "    ],\n",
        "    instructions=[\n",
        "        \"Use tables to display data\",\n",
        "        \"Only output the report, no other text\",\n",
        "        \"The analysis should be at least 1000 words\",\n",
        "    ],\n",
        "    markdown=True,\n",
        ")\n",
        "agent.print_response(\"Write a report on NVDA\", stream=True, show_full_reasoning=True, stream_intermediate_steps=True)"
      ],
      "metadata": {
        "colab": {
          "base_uri": "https://localhost:8080/",
          "height": 1000,
          "referenced_widgets": [
            "6a189d2c0b3b4ba5ab810dc999a565dc",
            "e46f7370b30840a896309169432b5636"
          ]
        },
        "id": "qwGnkMA4vaA9",
        "outputId": "6a84f514-65d3-41dc-f1a0-42b06b77b5ef"
      },
      "execution_count": null,
      "outputs": [
        {
          "output_type": "display_data",
          "data": {
            "text/plain": [
              "Output()"
            ],
            "application/vnd.jupyter.widget-view+json": {
              "version_major": 2,
              "version_minor": 0,
              "model_id": "6a189d2c0b3b4ba5ab810dc999a565dc"
            }
          },
          "metadata": {}
        },
        {
          "output_type": "display_data",
          "data": {
            "text/plain": [
              "\u001b[33mWARNING \u001b[0m Could not run function \u001b[1;35mthink\u001b[0m\u001b[1m(\u001b[0m\u001b[33manalysis\u001b[0m=\u001b[33m...\u001b[0m, \u001b[33mtitle\u001b[0m=\u001b[35mFormat\u001b[0m Report, \u001b[33mnext_action\u001b[0m=\u001b[35mfinal_answer\u001b[0m\u001b[1m)\u001b[0m                 \n"
            ],
            "text/html": [
              "<pre style=\"white-space:pre;overflow-x:auto;line-height:normal;font-family:Menlo,'DejaVu Sans Mono',consolas,'Courier New',monospace\"><span style=\"color: #808000; text-decoration-color: #808000\">WARNING </span> Could not run function <span style=\"color: #800080; text-decoration-color: #800080; font-weight: bold\">think</span><span style=\"font-weight: bold\">(</span><span style=\"color: #808000; text-decoration-color: #808000\">analysis</span>=<span style=\"color: #808000; text-decoration-color: #808000\">...</span>, <span style=\"color: #808000; text-decoration-color: #808000\">title</span>=<span style=\"color: #800080; text-decoration-color: #800080\">Format</span> Report, <span style=\"color: #808000; text-decoration-color: #808000\">next_action</span>=<span style=\"color: #800080; text-decoration-color: #800080\">final_answer</span><span style=\"font-weight: bold\">)</span>                 \n",
              "</pre>\n"
            ]
          },
          "metadata": {}
        },
        {
          "output_type": "display_data",
          "data": {
            "text/plain": [
              "\u001b[1;31mERROR   \u001b[0m \u001b[1;36m3\u001b[0m validation errors for ReasoningTools.think                                                              \n",
              "         thought                                                                                                   \n",
              "           Missing required argument \u001b[1m[\u001b[0m\u001b[33mtype\u001b[0m=\u001b[35mmissing_argument\u001b[0m, \u001b[33minput_value\u001b[0m=\u001b[1;35mArgsKwargs\u001b[0m\u001b[1m(\u001b[0m\u001b[1m(\u001b[0m\u001b[1m)\u001b[0m, \u001b[1m{\u001b[0m\u001b[32m'agent'\u001b[0m: \u001b[33m...\u001b[0mction':       \n",
              "         \u001b[32m'final_answer'\u001b[0m\u001b[1m}\u001b[0m\u001b[1m)\u001b[0m, \u001b[33minput_type\u001b[0m=\u001b[35mArgsKwargs\u001b[0m\u001b[1m]\u001b[0m                                                                  \n",
              "             For further information visit \u001b[4;94mhttps://errors.pydantic.dev/2.11/v/missing_argument\u001b[0m                     \n",
              "         analysis                                                                                                  \n",
              "           Unexpected keyword argument \u001b[1m[\u001b[0m\u001b[33mtype\u001b[0m=\u001b[35munexpected_keyword_argument\u001b[0m, \u001b[33minput_value\u001b[0m=\u001b[32m'The tool calls returned ...a\u001b[0m\n",
              "         \u001b[32mcomprehensive report.'\u001b[0m, \u001b[33minput_type\u001b[0m=\u001b[35mstr\u001b[0m\u001b[1m]\u001b[0m                                                                   \n",
              "             For further information visit \u001b[4;94mhttps://errors.pydantic.dev/2.11/v/unexpected_keyword_argument\u001b[0m          \n",
              "         next_action                                                                                               \n",
              "           Unexpected keyword argument \u001b[1m[\u001b[0m\u001b[33mtype\u001b[0m=\u001b[35munexpected_keyword_argument\u001b[0m, \u001b[33minput_value\u001b[0m=\u001b[32m'final_answer'\u001b[0m,              \n",
              "         \u001b[33minput_type\u001b[0m=\u001b[35mstr\u001b[0m\u001b[1m]\u001b[0m                                                                                           \n",
              "             For further information visit \u001b[4;94mhttps://errors.pydantic.dev/2.11/v/unexpected_keyword_argument\u001b[0m          \n",
              "         Traceback \u001b[1m(\u001b[0mmost recent call last\u001b[1m)\u001b[0m:                                                                        \n",
              "           File \u001b[32m\"/usr/local/lib/python3.11/dist-packages/agno/tools/function.py\"\u001b[0m, line \u001b[1;36m600\u001b[0m, in execute             \n",
              "             result = \u001b[1;35mself.function.entrypoint\u001b[0m\u001b[1m(\u001b[0m**arguments\u001b[1m)\u001b[0m                                                        \n",
              "                      ^^^^^^^^^^^^^^^^^^^^^^^^^^^^^^^^^^^^^                                                        \n",
              "           File \u001b[32m\"/usr/local/lib/python3.11/dist-packages/pydantic/_internal/_validate_call.py\"\u001b[0m, line \u001b[1;36m39\u001b[0m, in        \n",
              "         wrapper_function                                                                                          \n",
              "             return \u001b[1;35mwrapper\u001b[0m\u001b[1m(\u001b[0m*args, **kwargs\u001b[1m)\u001b[0m                                                                       \n",
              "                    ^^^^^^^^^^^^^^^^^^^^^^^^                                                                       \n",
              "           File \u001b[32m\"/usr/local/lib/python3.11/dist-packages/pydantic/_internal/_validate_call.py\"\u001b[0m, line \u001b[1;36m136\u001b[0m, in       \n",
              "         __call__                                                                                                  \n",
              "             res = \u001b[1;35mself.__pydantic_validator__.validate_python\u001b[0m\u001b[1m(\u001b[0m\u001b[1;35mpydantic_core.ArgsKwargs\u001b[0m\u001b[1m(\u001b[0margs, kwargs\u001b[1m)\u001b[0m\u001b[1m)\u001b[0m             \n",
              "                   ^^^^^^^^^^^^^^^^^^^^^^^^^^^^^^^^^^^^^^^^^^^^^^^^^^^^^^^^^^^^^^^^^^^^^^^^^^^^^^^^^^^             \n",
              "         pydantic_core._pydantic_core.ValidationError: \u001b[1;36m3\u001b[0m validation errors for ReasoningTools.think                \n",
              "         thought                                                                                                   \n",
              "           Missing required argument \u001b[1m[\u001b[0m\u001b[33mtype\u001b[0m=\u001b[35mmissing_argument\u001b[0m, \u001b[33minput_value\u001b[0m=\u001b[1;35mArgsKwargs\u001b[0m\u001b[1m(\u001b[0m\u001b[1m(\u001b[0m\u001b[1m)\u001b[0m, \u001b[1m{\u001b[0m\u001b[32m'agent'\u001b[0m: \u001b[33m...\u001b[0mction':       \n",
              "         \u001b[32m'final_answer'\u001b[0m\u001b[1m}\u001b[0m\u001b[1m)\u001b[0m, \u001b[33minput_type\u001b[0m=\u001b[35mArgsKwargs\u001b[0m\u001b[1m]\u001b[0m                                                                  \n",
              "             For further information visit \u001b[4;94mhttps://errors.pydantic.dev/2.11/v/missing_argument\u001b[0m                     \n",
              "         analysis                                                                                                  \n",
              "           Unexpected keyword argument \u001b[1m[\u001b[0m\u001b[33mtype\u001b[0m=\u001b[35munexpected_keyword_argument\u001b[0m, \u001b[33minput_value\u001b[0m=\u001b[32m'The tool calls returned ...a\u001b[0m\n",
              "         \u001b[32mcomprehensive report.'\u001b[0m, \u001b[33minput_type\u001b[0m=\u001b[35mstr\u001b[0m\u001b[1m]\u001b[0m                                                                   \n",
              "             For further information visit \u001b[4;94mhttps://errors.pydantic.dev/2.11/v/unexpected_keyword_argument\u001b[0m          \n",
              "         next_action                                                                                               \n",
              "           Unexpected keyword argument \u001b[1m[\u001b[0m\u001b[33mtype\u001b[0m=\u001b[35munexpected_keyword_argument\u001b[0m, \u001b[33minput_value\u001b[0m=\u001b[32m'final_answer'\u001b[0m,              \n",
              "         \u001b[33minput_type\u001b[0m=\u001b[35mstr\u001b[0m\u001b[1m]\u001b[0m                                                                                           \n",
              "             For further information visit \u001b[4;94mhttps://errors.pydantic.dev/2.11/v/unexpected_keyword_argument\u001b[0m          \n"
            ],
            "text/html": [
              "<pre style=\"white-space:pre;overflow-x:auto;line-height:normal;font-family:Menlo,'DejaVu Sans Mono',consolas,'Courier New',monospace\"><span style=\"color: #800000; text-decoration-color: #800000; font-weight: bold\">ERROR   </span> <span style=\"color: #008080; text-decoration-color: #008080; font-weight: bold\">3</span> validation errors for ReasoningTools.think                                                              \n",
              "         thought                                                                                                   \n",
              "           Missing required argument <span style=\"font-weight: bold\">[</span><span style=\"color: #808000; text-decoration-color: #808000\">type</span>=<span style=\"color: #800080; text-decoration-color: #800080\">missing_argument</span>, <span style=\"color: #808000; text-decoration-color: #808000\">input_value</span>=<span style=\"color: #800080; text-decoration-color: #800080; font-weight: bold\">ArgsKwargs</span><span style=\"font-weight: bold\">(()</span>, <span style=\"font-weight: bold\">{</span><span style=\"color: #008000; text-decoration-color: #008000\">'agent'</span>: <span style=\"color: #808000; text-decoration-color: #808000\">...</span>ction':       \n",
              "         <span style=\"color: #008000; text-decoration-color: #008000\">'final_answer'</span><span style=\"font-weight: bold\">})</span>, <span style=\"color: #808000; text-decoration-color: #808000\">input_type</span>=<span style=\"color: #800080; text-decoration-color: #800080\">ArgsKwargs</span><span style=\"font-weight: bold\">]</span>                                                                  \n",
              "             For further information visit <span style=\"color: #0000ff; text-decoration-color: #0000ff; text-decoration: underline\">https://errors.pydantic.dev/2.11/v/missing_argument</span>                     \n",
              "         analysis                                                                                                  \n",
              "           Unexpected keyword argument <span style=\"font-weight: bold\">[</span><span style=\"color: #808000; text-decoration-color: #808000\">type</span>=<span style=\"color: #800080; text-decoration-color: #800080\">unexpected_keyword_argument</span>, <span style=\"color: #808000; text-decoration-color: #808000\">input_value</span>=<span style=\"color: #008000; text-decoration-color: #008000\">'The tool calls returned ...a</span>\n",
              "         <span style=\"color: #008000; text-decoration-color: #008000\">comprehensive report.'</span>, <span style=\"color: #808000; text-decoration-color: #808000\">input_type</span>=<span style=\"color: #800080; text-decoration-color: #800080\">str</span><span style=\"font-weight: bold\">]</span>                                                                   \n",
              "             For further information visit <span style=\"color: #0000ff; text-decoration-color: #0000ff; text-decoration: underline\">https://errors.pydantic.dev/2.11/v/unexpected_keyword_argument</span>          \n",
              "         next_action                                                                                               \n",
              "           Unexpected keyword argument <span style=\"font-weight: bold\">[</span><span style=\"color: #808000; text-decoration-color: #808000\">type</span>=<span style=\"color: #800080; text-decoration-color: #800080\">unexpected_keyword_argument</span>, <span style=\"color: #808000; text-decoration-color: #808000\">input_value</span>=<span style=\"color: #008000; text-decoration-color: #008000\">'final_answer'</span>,              \n",
              "         <span style=\"color: #808000; text-decoration-color: #808000\">input_type</span>=<span style=\"color: #800080; text-decoration-color: #800080\">str</span><span style=\"font-weight: bold\">]</span>                                                                                           \n",
              "             For further information visit <span style=\"color: #0000ff; text-decoration-color: #0000ff; text-decoration: underline\">https://errors.pydantic.dev/2.11/v/unexpected_keyword_argument</span>          \n",
              "         Traceback <span style=\"font-weight: bold\">(</span>most recent call last<span style=\"font-weight: bold\">)</span>:                                                                        \n",
              "           File <span style=\"color: #008000; text-decoration-color: #008000\">\"/usr/local/lib/python3.11/dist-packages/agno/tools/function.py\"</span>, line <span style=\"color: #008080; text-decoration-color: #008080; font-weight: bold\">600</span>, in execute             \n",
              "             result = <span style=\"color: #800080; text-decoration-color: #800080; font-weight: bold\">self.function.entrypoint</span><span style=\"font-weight: bold\">(</span>**arguments<span style=\"font-weight: bold\">)</span>                                                        \n",
              "                      ^^^^^^^^^^^^^^^^^^^^^^^^^^^^^^^^^^^^^                                                        \n",
              "           File <span style=\"color: #008000; text-decoration-color: #008000\">\"/usr/local/lib/python3.11/dist-packages/pydantic/_internal/_validate_call.py\"</span>, line <span style=\"color: #008080; text-decoration-color: #008080; font-weight: bold\">39</span>, in        \n",
              "         wrapper_function                                                                                          \n",
              "             return <span style=\"color: #800080; text-decoration-color: #800080; font-weight: bold\">wrapper</span><span style=\"font-weight: bold\">(</span>*args, **kwargs<span style=\"font-weight: bold\">)</span>                                                                       \n",
              "                    ^^^^^^^^^^^^^^^^^^^^^^^^                                                                       \n",
              "           File <span style=\"color: #008000; text-decoration-color: #008000\">\"/usr/local/lib/python3.11/dist-packages/pydantic/_internal/_validate_call.py\"</span>, line <span style=\"color: #008080; text-decoration-color: #008080; font-weight: bold\">136</span>, in       \n",
              "         __call__                                                                                                  \n",
              "             res = <span style=\"color: #800080; text-decoration-color: #800080; font-weight: bold\">self.__pydantic_validator__.validate_python</span><span style=\"font-weight: bold\">(</span><span style=\"color: #800080; text-decoration-color: #800080; font-weight: bold\">pydantic_core.ArgsKwargs</span><span style=\"font-weight: bold\">(</span>args, kwargs<span style=\"font-weight: bold\">))</span>             \n",
              "                   ^^^^^^^^^^^^^^^^^^^^^^^^^^^^^^^^^^^^^^^^^^^^^^^^^^^^^^^^^^^^^^^^^^^^^^^^^^^^^^^^^^^             \n",
              "         pydantic_core._pydantic_core.ValidationError: <span style=\"color: #008080; text-decoration-color: #008080; font-weight: bold\">3</span> validation errors for ReasoningTools.think                \n",
              "         thought                                                                                                   \n",
              "           Missing required argument <span style=\"font-weight: bold\">[</span><span style=\"color: #808000; text-decoration-color: #808000\">type</span>=<span style=\"color: #800080; text-decoration-color: #800080\">missing_argument</span>, <span style=\"color: #808000; text-decoration-color: #808000\">input_value</span>=<span style=\"color: #800080; text-decoration-color: #800080; font-weight: bold\">ArgsKwargs</span><span style=\"font-weight: bold\">(()</span>, <span style=\"font-weight: bold\">{</span><span style=\"color: #008000; text-decoration-color: #008000\">'agent'</span>: <span style=\"color: #808000; text-decoration-color: #808000\">...</span>ction':       \n",
              "         <span style=\"color: #008000; text-decoration-color: #008000\">'final_answer'</span><span style=\"font-weight: bold\">})</span>, <span style=\"color: #808000; text-decoration-color: #808000\">input_type</span>=<span style=\"color: #800080; text-decoration-color: #800080\">ArgsKwargs</span><span style=\"font-weight: bold\">]</span>                                                                  \n",
              "             For further information visit <span style=\"color: #0000ff; text-decoration-color: #0000ff; text-decoration: underline\">https://errors.pydantic.dev/2.11/v/missing_argument</span>                     \n",
              "         analysis                                                                                                  \n",
              "           Unexpected keyword argument <span style=\"font-weight: bold\">[</span><span style=\"color: #808000; text-decoration-color: #808000\">type</span>=<span style=\"color: #800080; text-decoration-color: #800080\">unexpected_keyword_argument</span>, <span style=\"color: #808000; text-decoration-color: #808000\">input_value</span>=<span style=\"color: #008000; text-decoration-color: #008000\">'The tool calls returned ...a</span>\n",
              "         <span style=\"color: #008000; text-decoration-color: #008000\">comprehensive report.'</span>, <span style=\"color: #808000; text-decoration-color: #808000\">input_type</span>=<span style=\"color: #800080; text-decoration-color: #800080\">str</span><span style=\"font-weight: bold\">]</span>                                                                   \n",
              "             For further information visit <span style=\"color: #0000ff; text-decoration-color: #0000ff; text-decoration: underline\">https://errors.pydantic.dev/2.11/v/unexpected_keyword_argument</span>          \n",
              "         next_action                                                                                               \n",
              "           Unexpected keyword argument <span style=\"font-weight: bold\">[</span><span style=\"color: #808000; text-decoration-color: #808000\">type</span>=<span style=\"color: #800080; text-decoration-color: #800080\">unexpected_keyword_argument</span>, <span style=\"color: #808000; text-decoration-color: #808000\">input_value</span>=<span style=\"color: #008000; text-decoration-color: #008000\">'final_answer'</span>,              \n",
              "         <span style=\"color: #808000; text-decoration-color: #808000\">input_type</span>=<span style=\"color: #800080; text-decoration-color: #800080\">str</span><span style=\"font-weight: bold\">]</span>                                                                                           \n",
              "             For further information visit <span style=\"color: #0000ff; text-decoration-color: #0000ff; text-decoration: underline\">https://errors.pydantic.dev/2.11/v/unexpected_keyword_argument</span>          \n",
              "</pre>\n"
            ]
          },
          "metadata": {}
        }
      ]
    },
    {
      "cell_type": "code",
      "source": [],
      "metadata": {
        "id": "Y5EG60msvcIA"
      },
      "execution_count": null,
      "outputs": []
    },
    {
      "cell_type": "code",
      "source": [],
      "metadata": {
        "id": "r5itTp4qvefx"
      },
      "execution_count": null,
      "outputs": []
    },
    {
      "cell_type": "code",
      "source": [],
      "metadata": {
        "id": "8nFEq97lvecZ"
      },
      "execution_count": null,
      "outputs": []
    },
    {
      "cell_type": "code",
      "source": [],
      "metadata": {
        "id": "01QVxzJNvcDy"
      },
      "execution_count": null,
      "outputs": []
    },
    {
      "cell_type": "code",
      "source": [
        "from agno.agent import Agent\n",
        "from agno.models.google import Gemini\n",
        "\n",
        "agent = Agent(\n",
        "    model=Gemini(id=\"gemini-2.0-flash\"),\n",
        ")\n",
        "agent.print_response(\"Write a report on NVDA\", stream=True, show_full_reasoning=True, stream_intermediate_steps=True)"
      ],
      "metadata": {
        "id": "gBx81Gb6RPmC"
      },
      "execution_count": null,
      "outputs": []
    },
    {
      "cell_type": "code",
      "source": [],
      "metadata": {
        "id": "7V61VUrshDuG"
      },
      "execution_count": null,
      "outputs": []
    },
    {
      "cell_type": "code",
      "source": [],
      "metadata": {
        "id": "kpfMF391hDow"
      },
      "execution_count": null,
      "outputs": []
    },
    {
      "cell_type": "markdown",
      "source": [
        "## Market Research Agent with Mutliple Tools"
      ],
      "metadata": {
        "id": "eLhzJ8pUOxEP"
      }
    },
    {
      "cell_type": "code",
      "source": [
        "from agno.agent import Agent\n",
        "from agno.models.google import Gemini\n",
        "from agno.tools.reasoning import ReasoningTools\n",
        "from agno.tools.yfinance import YFinanceTools\n",
        "\n",
        "agent = Agent(\n",
        "    model=Gemini(id=\"gemini-2.0-flash\"),\n",
        "    tools=[\n",
        "        ReasoningTools(add_instructions=True),\n",
        "        YFinanceTools(stock_price=True, analyst_recommendations=True, company_info=True, company_news=True),\n",
        "    ],\n",
        "    instructions=[\n",
        "        \"Use tables to display data\",\n",
        "        \"Only output the report, no other text\",\n",
        "        \"The analysis should be at least 1000 words\",\n",
        "    ],\n",
        "    markdown=True,\n",
        ")\n",
        "agent.print_response(\"Write a report on NVDA\", stream=True, show_full_reasoning=True, stream_intermediate_steps=True)"
      ],
      "metadata": {
        "id": "AQFgNw1HOZI1"
      },
      "execution_count": null,
      "outputs": []
    },
    {
      "cell_type": "code",
      "source": [],
      "metadata": {
        "id": "pxr0Bm1dOZFw"
      },
      "execution_count": null,
      "outputs": []
    },
    {
      "cell_type": "code",
      "source": [],
      "metadata": {
        "id": "VqYJOuDVOZCn"
      },
      "execution_count": null,
      "outputs": []
    },
    {
      "cell_type": "markdown",
      "source": [
        "### Google Grounding"
      ],
      "metadata": {
        "id": "9P2hjUHhN3n_"
      }
    },
    {
      "cell_type": "code",
      "source": [
        "from agno.agent import Agent\n",
        "from agno.models.google import Gemini\n",
        "\n",
        "agent = Agent(\n",
        "    model=Gemini(\n",
        "                id=\"gemini-2.0-flash\",\n",
        "                #  id = \"gemini-2.5-pro-preview-03-25\",\n",
        "                 grounding=True\n",
        "                ),\n",
        "    add_datetime_to_instructions=True,\n",
        ")\n",
        "agent.print_response(\n",
        "    \"Give me the latest details on Tariffs?\", stream=True, markdown=True\n",
        ")"
      ],
      "metadata": {
        "id": "kM0J0peIMoj-"
      },
      "execution_count": null,
      "outputs": []
    },
    {
      "cell_type": "code",
      "source": [
        "from agno.agent import Agent\n",
        "from agno.models.google import Gemini\n",
        "\n",
        "agent = Agent(\n",
        "    model=Gemini(\n",
        "                id=\"gemini-2.0-flash\",\n",
        "                #  id = \"gemini-2.5-pro-preview-03-25\",\n",
        "                 grounding=True),\n",
        "    add_datetime_to_instructions=True,\n",
        ")\n",
        "agent.print_response(\n",
        "    \"Give me the latest details on Tariffs?\", stream=True, markdown=True\n",
        ")"
      ],
      "metadata": {
        "id": "nqsS0CMGNtes"
      },
      "execution_count": null,
      "outputs": []
    },
    {
      "cell_type": "markdown",
      "source": [
        "### Slides Creator Agent\n"
      ],
      "metadata": {
        "id": "aAQGOtSqQy9L"
      }
    },
    {
      "cell_type": "code",
      "source": [
        "from agno.agent import Agent\n",
        "from agno.models.google import Gemini\n",
        "\n",
        "agent = Agent(\n",
        "    model=Gemini(\n",
        "                id=\"gemini-2.0-flash\",\n",
        "                #  id = \"gemini-2.5-pro-preview-03-25\",\n",
        "                 grounding=True),\n",
        "    add_datetime_to_instructions=True,\n",
        ")\n",
        "agent.print_response(\n",
        "    \"Give me the latest details on Tariffs?\", stream=True, markdown=True\n",
        ")"
      ],
      "metadata": {
        "id": "gg1tO_BfQ2W6"
      },
      "execution_count": null,
      "outputs": []
    },
    {
      "cell_type": "markdown",
      "source": [
        "Whenever I ask you to create slides on a topic or tool, Make sure to include at least 2-3 slides. The first slide should be on definition or overview, then dive into features or use cases.\n",
        "\n",
        "Each slide should contain a 2-3 short sentence definition/intro followed by 3-4 bullet points. Bullet points shouldn't be very long - concise and straight to the point."
      ],
      "metadata": {
        "id": "V9ZCuc7lROAJ"
      }
    },
    {
      "cell_type": "code",
      "source": [
        "from agno.agent import Agent\n",
        "from agno.models.google import Gemini\n",
        "\n",
        "agent = Agent(\n",
        "        model=Gemini(\n",
        "            id=\"gemini-2.0-flash\",\n",
        "            grounding=True\n",
        "        ),\n",
        "        add_datetime_to_instructions=True,\n",
        "    )\n",
        "\n",
        "def create_slides_agent(topic):\n",
        "    prompt_template = \"\"\"\n",
        "    Whenever I ask you to create slides on a topic or tool, Make sure to include at least 2-3 slides.\n",
        "\n",
        "    The first slide should establish the need the topic or tool.\n",
        "\n",
        "    The second slide should be on definition or overview, then dive into features or use cases.\n",
        "\n",
        "    Each slide should contain a 2-3 short sentence definition/intro followed by 3-4 bullet points. Bullet points shouldn't be very long - concise and straight to the point.\n",
        "\n",
        "    Create slides on the following topic: {}\n",
        "    \"\"\".format(topic)\n",
        "\n",
        "    response = agent.run(prompt_template)\n",
        "    return response\n",
        "\n"
      ],
      "metadata": {
        "id": "_pI2nf5fQ2Ps"
      },
      "execution_count": null,
      "outputs": []
    },
    {
      "cell_type": "code",
      "source": [
        "# Example Usage:\n",
        "topic = \"Introduction to MCP (Model Context Protocol)\"\n",
        "response = create_slides_agent(topic)\n",
        "print(response.content)"
      ],
      "metadata": {
        "id": "cNkU38tmYSbt",
        "collapsed": true
      },
      "execution_count": null,
      "outputs": []
    },
    {
      "cell_type": "code",
      "source": [
        "# Example Usage:\n",
        "topic = \"Introduction to MCP (Model Context Protocol)\"\n",
        "response = create_slides_agent(topic)\n",
        "print(response.content)"
      ],
      "metadata": {
        "id": "a7c3XYySVB34",
        "collapsed": true
      },
      "execution_count": null,
      "outputs": []
    },
    {
      "cell_type": "code",
      "source": [
        "# Example Usage:\n",
        "topic = \"Introduction to Ollama\"\n",
        "response = create_slides_agent(topic)\n",
        "print(response.content)"
      ],
      "metadata": {
        "id": "v-02B4WLVwOA",
        "collapsed": true
      },
      "execution_count": null,
      "outputs": []
    },
    {
      "cell_type": "code",
      "source": [
        "\n",
        "topics = [\n",
        "    \"Introduction to MCP (Model Context Protocol)\",\n",
        "    \"Schedule Meeting with Claude + Google MCP\",\n",
        "    \"Create your MCP Server in Python\",\n",
        "    \"Browser Use - Introduction - Agents that can browse Internet\",\n",
        "    \"Book Flights with AI  using Browser Use Agent\",\n",
        "    \"What are Realtime Agents?\",\n",
        "    \"Gemini Live Overview\",\n",
        "    \"Voice Chatbot with GPT-4o-realtime\",\n",
        "    \"App: Talk to your Data - play.ai\",\n",
        "    \"What are local models?\",\n",
        "    \"Running models from Huggingface\",\n",
        "    \"Introduction to Ollama\",\n",
        "    \"Using local models using API with Ollama\",\n",
        "    \"App: ChatGPT without Internet! using Ollama\",\n",
        "    \"Introduction to AI ans Security (Observability, Evaluation, Guardrails)\",\n",
        "    \"Observability - Opik\",\n",
        "    \"Evaluation of Gen AI Systems - Giskard, RAGAS\",\n",
        "    \"Guardrails AI\"\n",
        "]\n",
        "\n",
        "for topic in topics:\n",
        "    response = create_slides_agent(topic)\n",
        "    print(f\"## {topic}\\n\")  # Print the topic as a heading\n",
        "    print(response.content)  # Print the response content\n",
        "    print(\"---\\n\")"
      ],
      "metadata": {
        "id": "IiMDDAQXnRxt"
      },
      "execution_count": null,
      "outputs": []
    },
    {
      "cell_type": "markdown",
      "source": [
        "### Social Media Content Agent"
      ],
      "metadata": {
        "id": "gToWayqOgu7g"
      }
    },
    {
      "cell_type": "code",
      "source": [
        "from agno.agent import Agent\n",
        "from agno.models.google import Gemini\n",
        "\n",
        "def create_linkedin_post_agent(topic):\n",
        "    prompt_template = \"\"\"\n",
        "    # You are a content writer for Satvik Paramkusham, Founder of Build Fast with AI.\n",
        "\n",
        "    Write a LinkedIn post on the topic: {}\n",
        "\n",
        "    The post should follow Satvik's distinctive writing style, which includes:\n",
        "\n",
        "    1. Opening with an attention-grabbing statement, often using emojis like 🚀, 🤯, or 🔥\n",
        "    2. Using short, impactful paragraphs with 1-3 sentences each\n",
        "    3. Including numbered or bulleted points (often with emoji numbers like 1️⃣, 2️⃣, 3️⃣)\n",
        "    4. Adding technical details and insights that showcase expertise\n",
        "    5. Often using the wavy line emoji (〰️) as bullet points within numbered sections\n",
        "    6. Including personal reflections or experiences when relevant\n",
        "    # 7. Ending with a call to action, often related to Build Fast with AI's courses or workshops\n",
        "    8. Using hashtags at the end\n",
        "\n",
        "    Make the post informative, enthusiastic, and engaging - focusing on practical applications of AI technology.\n",
        "    \"\"\".format(topic)\n",
        "\n",
        "    agent = Agent(\n",
        "        model=Gemini(\n",
        "            id=\"gemini-2.0-flash\",\n",
        "            grounding=True\n",
        "        ),\n",
        "        add_datetime_to_instructions=True,\n",
        "    )\n",
        "\n",
        "    response = agent.run(prompt_template)\n",
        "    return response"
      ],
      "metadata": {
        "id": "co1rGo0kgun7"
      },
      "execution_count": null,
      "outputs": []
    },
    {
      "cell_type": "code",
      "source": [
        "response = create_linkedin_post_agent(\"Llama 4 Models\")\n",
        "print(response.content)"
      ],
      "metadata": {
        "id": "p0N23uymgukR"
      },
      "execution_count": null,
      "outputs": []
    },
    {
      "cell_type": "code",
      "source": [],
      "metadata": {
        "id": "RqZAYpd6gugq"
      },
      "execution_count": null,
      "outputs": []
    },
    {
      "cell_type": "markdown",
      "source": [
        "### Composio Tools"
      ],
      "metadata": {
        "id": "wQR_McU2oHHn"
      }
    },
    {
      "cell_type": "code",
      "source": [
        "# Install Composio LangChain package\n",
        "!pip install -qU composio-agno"
      ],
      "metadata": {
        "id": "JsR1rlpboG8l"
      },
      "execution_count": null,
      "outputs": []
    },
    {
      "cell_type": "code",
      "source": [
        "import os\n",
        "from google.colab import userdata\n",
        "\n",
        "os.environ[\"OPENAI_API_KEY\"] = userdata.get('OPENAI_API_KEY')\n",
        "os.environ[\"COMPOSIO_API_KEY\"] = userdata.get('COMPOSIO_API_KEY')"
      ],
      "metadata": {
        "id": "8DGjsO70oKYE"
      },
      "execution_count": null,
      "outputs": []
    },
    {
      "cell_type": "code",
      "source": [
        "from agno.agent import Agent\n",
        "from composio_agno import ComposioToolSet, Action, App\n",
        "\n",
        "# toolset = ComposioToolSet()\n",
        "\n",
        "# tools = toolset.get_tools(apps=[App.GOOGLETASKS])\n",
        "\n",
        "composio_toolset = ComposioToolSet(entity_id=\"default\")\n",
        "\n",
        "tools = composio_toolset.get_tools(apps=[App.GOOGLETASKS])"
      ],
      "metadata": {
        "id": "WF-rxX8B6_lv"
      },
      "execution_count": null,
      "outputs": []
    },
    {
      "cell_type": "code",
      "source": [
        "# Create a chat completion request to decide on the action\n",
        "agent = Agent(model=Gemini(id=\"gemini-2.0-flash\"),\n",
        "              tools=tools,\n",
        "              show_tool_calls=True)\n",
        "\n",
        "agent.print_response(\"Add 'Make YT video' task to google tasks \")"
      ],
      "metadata": {
        "id": "PuU-6MaXAHQp"
      },
      "execution_count": null,
      "outputs": []
    },
    {
      "cell_type": "code",
      "source": [
        "response = agent.run(\"Add Apply to Google SWE Role task to google tasks under My Tasks \")"
      ],
      "metadata": {
        "id": "2MIgeVKSHZy0"
      },
      "execution_count": null,
      "outputs": []
    },
    {
      "cell_type": "code",
      "source": [
        "print(response.content)"
      ],
      "metadata": {
        "id": "JY8Af27ZH5OC"
      },
      "execution_count": null,
      "outputs": []
    },
    {
      "cell_type": "code",
      "source": [
        "tools = composio_toolset.get_tools(actions=['TWITTER_BOOKMARKS_BY_USER'])\n",
        "\n",
        "# Create a chat completion request to decide on the action\n",
        "agent = Agent(model=Gemini(id=\"gemini-2.0-flash\"),\n",
        "              tools=tools,\n",
        "              show_tool_calls=True)\n",
        "\n",
        "agent.print_response(\"Get my latest twitter bookmarks\")"
      ],
      "metadata": {
        "id": "q59lGgyn6_gk"
      },
      "execution_count": null,
      "outputs": []
    },
    {
      "cell_type": "markdown",
      "source": [],
      "metadata": {
        "id": "RuYbRDCRHSg4"
      }
    },
    {
      "cell_type": "markdown",
      "source": [
        "Using Structured Outputs"
      ],
      "metadata": {
        "id": "iSQwofKLP2db"
      }
    },
    {
      "cell_type": "code",
      "source": [
        "from typing import List\n",
        "\n",
        "from agno.agent import Agent, RunResponse  # noqa\n",
        "from agno.models.google import Gemini\n",
        "from pydantic import BaseModel, Field\n",
        "from rich.pretty import pprint  # noqa\n",
        "\n",
        "\n",
        "class MovieScript(BaseModel):\n",
        "    setting: str = Field(\n",
        "        ..., description=\"Provide a nice setting for a blockbuster movie.\"\n",
        "    )\n",
        "    ending: str = Field(\n",
        "        ...,\n",
        "        description=\"Ending of the movie. If not available, provide a happy ending.\",\n",
        "    )\n",
        "    genre: str = Field(\n",
        "        ...,\n",
        "        description=\"Genre of the movie. If not available, select action, thriller or romantic comedy.\",\n",
        "    )\n",
        "    name: str = Field(..., description=\"Give a name to this movie\")\n",
        "    characters: List[str] = Field(..., description=\"Name of characters for this movie.\")\n",
        "    storyline: str = Field(\n",
        "        ..., description=\"3 sentence storyline for the movie. Make it exciting!\"\n",
        "    )\n",
        "\n",
        "\n",
        "structured_output_agent = Agent(\n",
        "    model=Gemini(id=\"gemini-2.0-flash\"),\n",
        "    description=\"You help users organise tasks.\",\n",
        "    response_model=TaskOutput,\n",
        ")\n",
        "\n",
        "structured_output_agent.print_response(\"New York\")"
      ],
      "metadata": {
        "id": "FO-nfqmlP6qT"
      },
      "execution_count": null,
      "outputs": []
    },
    {
      "cell_type": "code",
      "source": [],
      "metadata": {
        "id": "ghkQUjkKnQhc"
      },
      "execution_count": null,
      "outputs": []
    },
    {
      "cell_type": "code",
      "source": [],
      "metadata": {
        "id": "Uj2vqb17oENA"
      },
      "execution_count": null,
      "outputs": []
    }
  ]
}